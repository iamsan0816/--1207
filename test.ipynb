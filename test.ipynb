{
 "cells": [
  {
   "cell_type": "code",
   "execution_count": 2,
   "metadata": {},
   "outputs": [
    {
     "name": "stdout",
     "output_type": "stream",
     "text": [
      "下載失敗\n"
     ]
    }
   ],
   "source": [
    "import requests\n",
    "url = \"https://www.ytower.com.tw/recip111e/iframe-recipe.asp?seq=A03-1644\"\n",
    "response = requests.get(url)\n",
    "response.encoding = 'big5'\n",
    "if response.ok:\n",
    "    html_cod = response.text\n",
    "else:\n",
    "    print('下載失敗')\n"
   ]
  }
 ],
 "metadata": {
  "kernelspec": {
   "display_name": "Python 3.10.7 ('venv1207')",
   "language": "python",
   "name": "python3"
  },
  "language_info": {
   "codemirror_mode": {
    "name": "ipython",
    "version": 3
   },
   "file_extension": ".py",
   "mimetype": "text/x-python",
   "name": "python",
   "nbconvert_exporter": "python",
   "pygments_lexer": "ipython3",
   "version": "3.10.7"
  },
  "orig_nbformat": 4,
  "vscode": {
   "interpreter": {
    "hash": "9afe31fda19b82f451eb23af3c7052b07e27abd3dad0316659ff70be7d82589f"
   }
  }
 },
 "nbformat": 4,
 "nbformat_minor": 2
}

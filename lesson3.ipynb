{
 "cells": [
  {
   "cell_type": "code",
   "execution_count": 17,
   "metadata": {},
   "outputs": [],
   "source": [
    "import requests\n",
    "url = \"https://www.ytower.com.tw/recipe/iframe-recipe.asp?seq=A03-1644\"\n",
    "response = requests.get(url)\n",
    "response.encoding = 'big5'\n",
    "if response.ok:\n",
    "    html_code = response.text\n",
    "else:\n",
    "    print(\"下載失敗\")\n"
   ]
  },
  {
   "cell_type": "code",
   "execution_count": 13,
   "metadata": {},
   "outputs": [
    {
     "data": {
      "text/plain": [
       "'宮保雞丁(14)'"
      ]
     },
     "execution_count": 13,
     "metadata": {},
     "output_type": "execute_result"
    }
   ],
   "source": [
    "from bs4 import BeautifulSoup\n",
    "soup = BeautifulSoup(html_cod,'html.parser')\n",
    "recipe_groups = soup.find(name=\"div\",id=\"recipe_name\")\n",
    "recipe_groups.get_text()\n"
   ]
  },
  {
   "cell_type": "code",
   "execution_count": null,
   "metadata": {},
   "outputs": [],
   "source": [
    "ingredients = soup.find_all(name=\"ul\", class_=\"ingredient\")\n",
    "for ingredient in ingredients:\n",
    "    for li in ingredient.find_all(name='li'):\n",
    "        print(li.get_text())\n"
   ]
  },
  {
   "cell_type": "code",
   "execution_count": null,
   "metadata": {},
   "outputs": [],
   "source": [
    "ingredients = soup.find_all(name=\"ul\", class_=\"ingredient\")\n",
    "for ingredient in ingredients:\n",
    "    ingredient_list = []\n",
    "    for li in ingredient.find_all(name='li'):\n",
    "        ingredient_list.append(li.get_text().strip())\n",
    "    print(ingredient_list)\n"
   ]
  }
 ],
 "metadata": {
  "kernelspec": {
   "display_name": "Python 3.10.7 ('venv1207')",
   "language": "python",
   "name": "python3"
  },
  "language_info": {
   "codemirror_mode": {
    "name": "ipython",
    "version": 3
   },
   "file_extension": ".py",
   "mimetype": "text/x-python",
   "name": "python",
   "nbconvert_exporter": "python",
   "pygments_lexer": "ipython3",
   "version": "3.10.7"
  },
  "orig_nbformat": 4,
  "vscode": {
   "interpreter": {
    "hash": "9afe31fda19b82f451eb23af3c7052b07e27abd3dad0316659ff70be7d82589f"
   }
  }
 },
 "nbformat": 4,
 "nbformat_minor": 2
}
